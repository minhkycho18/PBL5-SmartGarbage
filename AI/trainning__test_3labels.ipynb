{
  "nbformat": 4,
  "nbformat_minor": 0,
  "metadata": {
    "colab": {
      "provenance": []
    },
    "kernelspec": {
      "name": "python3",
      "display_name": "Python 3"
    },
    "language_info": {
      "name": "python"
    }
  },
  "cells": [
    {
      "cell_type": "code",
      "execution_count": null,
      "metadata": {
        "colab": {
          "base_uri": "https://localhost:8080/"
        },
        "id": "IEBzmICdpn7N",
        "outputId": "abc19bd5-8d54-4769-f8a7-775754556d6a"
      },
      "outputs": [
        {
          "output_type": "stream",
          "name": "stdout",
          "text": [
            "Drive already mounted at /content/drive; to attempt to forcibly remount, call drive.mount(\"/content/drive\", force_remount=True).\n"
          ]
        }
      ],
      "source": [
        "from google.colab import drive\n",
        "drive.mount('/content/drive')"
      ]
    },
    {
      "cell_type": "code",
      "execution_count": null,
      "metadata": {
        "id": "1-bfc5mI1YaO"
      },
      "outputs": [],
      "source": [
        "# import \n",
        "from tensorflow.keras.preprocessing.image import ImageDataGenerator\n",
        "from tensorflow.keras.applications import MobileNetV2\n",
        "from tensorflow.keras.layers import AveragePooling2D\n",
        "from tensorflow.keras.layers import Dropout\n",
        "from tensorflow.keras.layers import Flatten\n",
        "from tensorflow.keras.layers import Dense\n",
        "from tensorflow.keras.layers import Input\n",
        "from tensorflow.keras.models import Model\n",
        "from tensorflow.keras.optimizers import Adam\n",
        "from tensorflow.keras.applications.mobilenet_v2 import preprocess_input\n",
        "from tensorflow.keras.preprocessing.image import img_to_array\n",
        "from tensorflow.keras.preprocessing.image import load_img\n",
        "from tensorflow.keras.utils import to_categorical\n",
        "from sklearn.preprocessing import LabelBinarizer\n",
        "from sklearn.model_selection import train_test_split\n",
        "from sklearn.metrics import classification_report\n",
        "from imutils import paths\n",
        "import matplotlib.pyplot as plt\n",
        "import numpy as np\n",
        "import os\n",
        "\n",
        "# khởi tạo tốc độ học ban đầu, epochs và batch_size\n",
        "\n",
        "INIT_LR = 1e-4\n",
        "EPOCHS = 20\n",
        "BS = 32\n",
        "\n",
        "DIRECTORY = r\"/content/drive/MyDrive/PBL5/final_data\"\n",
        "CATEGORIES = [\"recycle\", \"unrecycle\", \"nothing\"]"
      ]
    },
    {
      "cell_type": "code",
      "execution_count": null,
      "metadata": {
        "colab": {
          "base_uri": "https://localhost:8080/"
        },
        "id": "fARgnU6M1qTS",
        "outputId": "3c005dc8-cb8a-481c-bc7e-664d87b4ec34"
      },
      "outputs": [
        {
          "output_type": "stream",
          "name": "stdout",
          "text": [
            "[INFO] loading images...\n"
          ]
        }
      ],
      "source": [
        "# Lấy hình ảnh từ thư mục ở drive, sau đó khởi tạo danh sách và class image\n",
        "\n",
        "print(\"[INFO] loading images...\")\n",
        "\n",
        "data = []\n",
        "labels = []\n",
        "\n",
        "for category in CATEGORIES:\n",
        "    path = os.path.join(DIRECTORY, category)\n",
        "    for img in os.listdir(path):\n",
        "        img_path = os.path.join(path, img)\n",
        "        image = load_img(img_path, target_size=(224, 224))\n",
        "        image = img_to_array(image)\n",
        "        image = preprocess_input(image)\n",
        "\n",
        "        data.append(image)\n",
        "        labels.append(category)"
      ]
    },
    {
      "cell_type": "code",
      "source": [
        "print(len(labels))\n",
        "l = np.array(labels)\n",
        "l.ndim"
      ],
      "metadata": {
        "colab": {
          "base_uri": "https://localhost:8080/"
        },
        "id": "Y_8gaFhm8Po3",
        "outputId": "4dc09227-f9b5-4153-b37e-d236d9e6dd9e"
      },
      "execution_count": null,
      "outputs": [
        {
          "output_type": "stream",
          "name": "stdout",
          "text": [
            "4680\n"
          ]
        },
        {
          "output_type": "execute_result",
          "data": {
            "text/plain": [
              "1"
            ]
          },
          "metadata": {},
          "execution_count": 4
        }
      ]
    },
    {
      "cell_type": "code",
      "source": [
        "np.unique(l)"
      ],
      "metadata": {
        "colab": {
          "base_uri": "https://localhost:8080/"
        },
        "id": "dLG0j4oZiwlf",
        "outputId": "3025bf4f-1c3c-4239-e3dc-287f6d98514a"
      },
      "execution_count": null,
      "outputs": [
        {
          "output_type": "execute_result",
          "data": {
            "text/plain": [
              "array(['nothing', 'recycle', 'unrecycle'], dtype='<U9')"
            ]
          },
          "metadata": {},
          "execution_count": 5
        }
      ]
    },
    {
      "cell_type": "code",
      "execution_count": null,
      "metadata": {
        "id": "64zxWApo1wW3"
      },
      "outputs": [],
      "source": [
        "# Chuyển đổi nhãn từ chuỗi thành dạng one-hot encoding\n",
        "# Chia data thành (trainX, testX, trainY, testY) tỉ lệ 0.8:0.2\n",
        "\n",
        "lb = LabelBinarizer()\n",
        "\n",
        "labels = lb.fit_transform(labels)"
      ]
    },
    {
      "cell_type": "code",
      "source": [
        "data = np.array(data, dtype=\"float32\")\n",
        "labels = np.array(labels)"
      ],
      "metadata": {
        "id": "z9ooJq-xMz_a"
      },
      "execution_count": null,
      "outputs": []
    },
    {
      "cell_type": "code",
      "source": [
        "(trainX, testX, trainY, testY) = train_test_split(data, labels,\n",
        "    test_size=0.20, stratify=labels, random_state=42)"
      ],
      "metadata": {
        "id": "vhxKnCxCMsJP"
      },
      "execution_count": null,
      "outputs": []
    },
    {
      "cell_type": "code",
      "execution_count": null,
      "metadata": {
        "id": "GwEobZPD1xGe"
      },
      "outputs": [],
      "source": [
        "# Tăng độ đa dạng dữ liệu một lần nữa với ImageDataGenerator\n",
        "\n",
        "aug = ImageDataGenerator(\n",
        "    rotation_range=20,\n",
        "    zoom_range=0.15,\n",
        "    width_shift_range=0.2,\n",
        "    height_shift_range=0.2,\n",
        "    shear_range=0.15,\n",
        "    horizontal_flip=True,\n",
        "    fill_mode=\"nearest\")"
      ]
    },
    {
      "cell_type": "code",
      "execution_count": null,
      "metadata": {
        "id": "kkKGmmyd1rA3",
        "colab": {
          "base_uri": "https://localhost:8080/"
        },
        "outputId": "70eef0ff-3367-40a8-d0f8-fdc93e4e7bf4"
      },
      "outputs": [
        {
          "output_type": "stream",
          "name": "stderr",
          "text": [
            "WARNING:tensorflow:`input_shape` is undefined or non-square, or `rows` is not in [96, 128, 160, 192, 224]. Weights for input shape (224, 224) will be loaded as the default.\n",
            "WARNING:absl:`lr` is deprecated in Keras optimizer, please use `learning_rate` or use the legacy optimizer, e.g.,tf.keras.optimizers.legacy.Adam.\n"
          ]
        },
        {
          "output_type": "stream",
          "name": "stdout",
          "text": [
            "[INFO] compiling model...\n",
            "[INFO] training head...\n",
            "Epoch 1/20\n",
            "117/117 [==============================] - 243s 2s/step - loss: 0.2287 - accuracy: 0.8707 - val_loss: 0.1284 - val_accuracy: 0.9316\n",
            "Epoch 2/20\n",
            "117/117 [==============================] - 220s 2s/step - loss: 0.1501 - accuracy: 0.9159 - val_loss: 0.1155 - val_accuracy: 0.9306\n",
            "Epoch 3/20\n",
            "117/117 [==============================] - 221s 2s/step - loss: 0.1275 - accuracy: 0.9249 - val_loss: 0.1080 - val_accuracy: 0.9370\n",
            "Epoch 4/20\n",
            "117/117 [==============================] - 225s 2s/step - loss: 0.1115 - accuracy: 0.9375 - val_loss: 0.1148 - val_accuracy: 0.9295\n",
            "Epoch 5/20\n",
            "117/117 [==============================] - 228s 2s/step - loss: 0.1049 - accuracy: 0.9410 - val_loss: 0.0971 - val_accuracy: 0.9380\n",
            "Epoch 6/20\n",
            "117/117 [==============================] - 244s 2s/step - loss: 0.0946 - accuracy: 0.9474 - val_loss: 0.0902 - val_accuracy: 0.9423\n",
            "Epoch 7/20\n",
            "117/117 [==============================] - 228s 2s/step - loss: 0.0922 - accuracy: 0.9442 - val_loss: 0.0824 - val_accuracy: 0.9498\n",
            "Epoch 8/20\n",
            "117/117 [==============================] - 228s 2s/step - loss: 0.0872 - accuracy: 0.9493 - val_loss: 0.0786 - val_accuracy: 0.9541\n",
            "Epoch 9/20\n",
            "117/117 [==============================] - 227s 2s/step - loss: 0.0776 - accuracy: 0.9538 - val_loss: 0.0781 - val_accuracy: 0.9519\n",
            "Epoch 10/20\n",
            "117/117 [==============================] - 229s 2s/step - loss: 0.0809 - accuracy: 0.9527 - val_loss: 0.0738 - val_accuracy: 0.9551\n",
            "Epoch 11/20\n",
            "117/117 [==============================] - 224s 2s/step - loss: 0.0743 - accuracy: 0.9559 - val_loss: 0.0856 - val_accuracy: 0.9498\n",
            "Epoch 12/20\n",
            "117/117 [==============================] - 224s 2s/step - loss: 0.0676 - accuracy: 0.9621 - val_loss: 0.0728 - val_accuracy: 0.9583\n",
            "Epoch 13/20\n",
            "117/117 [==============================] - 228s 2s/step - loss: 0.0579 - accuracy: 0.9701 - val_loss: 0.0695 - val_accuracy: 0.9615\n",
            "Epoch 14/20\n",
            "117/117 [==============================] - 234s 2s/step - loss: 0.0665 - accuracy: 0.9623 - val_loss: 0.0872 - val_accuracy: 0.9487\n",
            "Epoch 15/20\n",
            "117/117 [==============================] - 226s 2s/step - loss: 0.0608 - accuracy: 0.9663 - val_loss: 0.0615 - val_accuracy: 0.9637\n",
            "Epoch 16/20\n",
            "117/117 [==============================] - 229s 2s/step - loss: 0.0617 - accuracy: 0.9666 - val_loss: 0.0630 - val_accuracy: 0.9583\n",
            "Epoch 17/20\n",
            "117/117 [==============================] - 228s 2s/step - loss: 0.0549 - accuracy: 0.9693 - val_loss: 0.0652 - val_accuracy: 0.9583\n",
            "Epoch 18/20\n",
            "117/117 [==============================] - 226s 2s/step - loss: 0.0542 - accuracy: 0.9706 - val_loss: 0.0593 - val_accuracy: 0.9679\n",
            "Epoch 19/20\n",
            "117/117 [==============================] - 227s 2s/step - loss: 0.0503 - accuracy: 0.9725 - val_loss: 0.0754 - val_accuracy: 0.9573\n",
            "Epoch 20/20\n",
            "117/117 [==============================] - 228s 2s/step - loss: 0.0571 - accuracy: 0.9669 - val_loss: 0.0662 - val_accuracy: 0.9594\n"
          ]
        }
      ],
      "source": [
        "# Tải MobileNetV2 làm mô hình cơ sở, loại bỏ các tầng Fully Connected\n",
        "# (FC) layers ở đầu mô hình\n",
        "\n",
        "baseModel = MobileNetV2(weights=\"imagenet\", include_top=False,\n",
        "    input_tensor=Input(shape=(224, 224, 3)))\n",
        "\n",
        "# Xây dựng các tầng Fully Connected (FC) layers gồm\n",
        "# AveragePooling2D, Flatten, Dense và Dropout\n",
        "\n",
        "headModel = baseModel.output\n",
        "headModel = AveragePooling2D(pool_size=(7, 7))(headModel)\n",
        "headModel = Flatten(name=\"flatten\")(headModel)\n",
        "headModel = Dense(128, activation=\"relu\")(headModel)\n",
        "headModel = Dropout(0.5)(headModel)\n",
        "headModel = Dense(3, activation=\"softmax\")(headModel)\n",
        "\n",
        "# Tạo một mô hình hoàn chỉnh bằng cách kết hợp mô hình cơ sở \n",
        "# và các tầng Fully Connected (FC) layers mới\n",
        "\n",
        "model = Model(inputs=baseModel.input, outputs=headModel)\n",
        "\n",
        "# Đóng băng các tầng của mô hình cơ sở để \n",
        "# chỉ huấn luyện các tầng mới được thêm vào\n",
        "\n",
        "for layer in baseModel.layers:\n",
        "    layer.trainable = False\n",
        "\n",
        "## Train và xuất Model\n",
        "\n",
        "print(\"[INFO] compiling model...\")\n",
        "# opt = Adam(lr=INIT_LR, decay=INIT_LR / EPOCHS)\n",
        "# opt = tf.keras.optimizers.legacy.Adam(lr=INIT_LR, decay=INIT_LR / EPOCHS)\n",
        "# phiên bản mới k có tham số decay, vốn là tham số giảm tốc độ học\n",
        "\n",
        "opt = Adam(lr=INIT_LR)\n",
        "\n",
        "# Sử dụng tối ưu hóa Adam và hàm mất mát binary_crossentropy để train mô hình\n",
        "model.compile(loss=\"binary_crossentropy\", optimizer=\"adam\", metrics=[\"accuracy\"])\n",
        "\n",
        "# Train\n",
        "\n",
        "print(\"[INFO] training head...\")\n",
        "H = model.fit(\n",
        "    aug.flow(trainX, trainY, batch_size=BS),\n",
        "    steps_per_epoch=len(trainX) // BS,\n",
        "    validation_data=(testX, testY),\n",
        "    validation_steps=len(testX) // BS,\n",
        "    epochs=EPOCHS)"
      ]
    },
    {
      "cell_type": "code",
      "execution_count": null,
      "metadata": {
        "id": "Pa5GAb1u2Ald",
        "colab": {
          "base_uri": "https://localhost:8080/",
          "height": 703
        },
        "outputId": "c4328355-dd40-410f-823c-adf801c7b1bb"
      },
      "outputs": [
        {
          "output_type": "stream",
          "name": "stdout",
          "text": [
            "[INFO] evaluating network...\n",
            "30/30 [==============================] - 36s 1s/step\n",
            "              precision    recall  f1-score   support\n",
            "\n",
            "     nothing       1.00      1.00      1.00        45\n",
            "     recycle       0.98      0.94      0.96       460\n",
            "   unrecycle       0.94      0.97      0.96       431\n",
            "\n",
            "    accuracy                           0.96       936\n",
            "   macro avg       0.97      0.97      0.97       936\n",
            "weighted avg       0.96      0.96      0.96       936\n",
            "\n",
            "[INFO] saving mask detector model...\n"
          ]
        },
        {
          "output_type": "display_data",
          "data": {
            "text/plain": [
              "<Figure size 640x480 with 1 Axes>"
            ],
            "image/png": "[encoded data removed]"
          },
          "metadata": {}
        }
      ],
      "source": [
        "# Đánh giá mô hình\n",
        "\n",
        "print(\"[INFO] evaluating network...\")\n",
        "predIdxs = model.predict(testX, batch_size=BS)\n",
        "\n",
        "# Lấy nhãn có dự đoán cao nhất trong data test\n",
        "\n",
        "predIdxs = np.argmax(predIdxs, axis=1)\n",
        "\n",
        "# Báo cáo phân loại\n",
        "\n",
        "print(classification_report(testY.argmax(axis=1), predIdxs, target_names=lb.classes_))\n",
        "\n",
        "# Lưu file model\n",
        "\n",
        "print(\"[INFO] saving mask detector model...\")\n",
        "model.save(\"garbage.model\", save_format=\"h5\")\n",
        "\n",
        "# Xuất đồ thị đánh giá loss và accurancy\n",
        "\n",
        "N = EPOCHS\n",
        "plt.style.use(\"ggplot\")\n",
        "plt.figure()\n",
        "plt.plot(np.arange(0, N), H.history[\"loss\"], label=\"train_loss\")\n",
        "plt.plot(np.arange(0, N), H.history[\"val_loss\"], label=\"val_loss\")\n",
        "plt.plot(np.arange(0, N), H.history[\"accuracy\"], label=\"train_acc\")\n",
        "plt.plot(np.arange(0, N), H.history[\"val_accuracy\"], label=\"val_acc\")\n",
        "plt.title(\"Training Loss and Accuracy\")\n",
        "plt.xlabel(\"Epoch #\")\n",
        "plt.ylabel(\"Loss/Accuracy\")\n",
        "plt.legend(loc=\"lower left\")\n",
        "plt.savefig(\"plot.png\")"
      ]
    }
  ]
}